{
 "cells": [
  {
   "cell_type": "code",
   "execution_count": 2,
   "metadata": {},
   "outputs": [
    {
     "name": "stdout",
     "output_type": "stream",
     "text": [
      "[[ 1  1  1 -1]\n",
      " [ 1  1  1 -1]\n",
      " [ 1  1  1 -1]\n",
      " [-1 -1 -1  1]]\n"
     ]
    }
   ],
   "source": [
    "import numpy as np\n",
    "from numpy import array\n",
    "#initial our S vectors\n",
    "S = np.array([[1,1,1,-1]])\n",
    "\n",
    "W = np.multiply(S.T,S)\n",
    "\n",
    "\n",
    "def sn(n):\n",
    "    for x in range(len(n)):\n",
    "        if (n[x]<0):\n",
    "            n[x] = -1\n",
    "        else:\n",
    "            n[x] = 1\n",
    "    return n\n",
    "\n",
    "def prid(n):\n",
    "    out = np.multiply(n,W)\n",
    "    out_oneD = [sum(i) for i in out]\n",
    "    return array(out_oneD)\n",
    "\n",
    "#print('\\nFor A:')\n",
    "#print(sn(prid(S)))\n",
    "print(W)"
   ]
  },
  {
   "cell_type": "code",
   "execution_count": 3,
   "metadata": {},
   "outputs": [
    {
     "name": "stdout",
     "output_type": "stream",
     "text": [
      "\n",
      "For S1:\n",
      "[ 1  1  1 -1]\n",
      "\n",
      "For S2:\n",
      "[ 1  1  1 -1]\n",
      "\n",
      "For S3:\n",
      "[ 1  1  1 -1]\n",
      "\n",
      "For S4:\n",
      "[ 1  1  1 -1]\n"
     ]
    }
   ],
   "source": [
    "#now we add one mistake\n",
    "\n",
    "S1 = np.array([[-1,1,1,-1]])\n",
    "S2 = np.array([[1,-1,1,-1]])\n",
    "S3 = np.array([[1,1,-1,-1]])\n",
    "S4 = np.array([[1,1,1,1]])\n",
    "\n",
    "print('\\nFor S1:')\n",
    "print(sn(prid(S1)))\n",
    "print('\\nFor S2:')\n",
    "print(sn(prid(S2)))\n",
    "print('\\nFor S3:')\n",
    "print(sn(prid(S3)))\n",
    "print('\\nFor S4:')\n",
    "print(sn(prid(S4)))"
   ]
  },
  {
   "cell_type": "code",
   "execution_count": 4,
   "metadata": {},
   "outputs": [
    {
     "name": "stdout",
     "output_type": "stream",
     "text": [
      "\n",
      "For S21:\n",
      "[ 1  1  1 -1]\n",
      "\n",
      "For S22:\n",
      "[ 1  1  1 -1]\n",
      "\n",
      "For S23:\n",
      "[ 1  1  1 -1]\n",
      "\n",
      "For S24:\n",
      "[ 1  1  1 -1]\n"
     ]
    }
   ],
   "source": [
    "#now we add two mistakes\n",
    "\n",
    "S21 = np.array([[-1,-1,1,-1]])\n",
    "S22 = np.array([[1,-1,-1,-1]])\n",
    "S23 = np.array([[1,1,-1,1]])\n",
    "S24 = np.array([[-1,1,1,1]])\n",
    "\n",
    "print('\\nFor S21:')\n",
    "print(sn(prid(S1)))\n",
    "print('\\nFor S22:')\n",
    "print(sn(prid(S2)))\n",
    "print('\\nFor S23:')\n",
    "print(sn(prid(S3)))\n",
    "print('\\nFor S24:')\n",
    "print(sn(prid(S4)))"
   ]
  }
 ],
 "metadata": {
  "kernelspec": {
   "display_name": "Python 3",
   "language": "python",
   "name": "python3"
  },
  "language_info": {
   "codemirror_mode": {
    "name": "ipython",
    "version": 3
   },
   "file_extension": ".py",
   "mimetype": "text/x-python",
   "name": "python",
   "nbconvert_exporter": "python",
   "pygments_lexer": "ipython3",
   "version": "3.7.0"
  }
 },
 "nbformat": 4,
 "nbformat_minor": 2
}
