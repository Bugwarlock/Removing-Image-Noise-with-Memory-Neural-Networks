{
 "cells": [
  {
   "cell_type": "code",
   "execution_count": 8,
   "metadata": {},
   "outputs": [],
   "source": [
    "import numpy as np\n",
    "import matplotlib.pyplot as plt\n",
    "import random\n",
    "\n",
    "S = np.array([\n",
    "[-1,1,-1\n",
    " ,1,-1,1\n",
    " ,1,1,1\n",
    " ,1,-1,1\n",
    " ,1,-1,1]\n",
    ",[1,1,-1\n",
    "  ,1,-1,\n",
    "  1,1,1,-1\n",
    "  ,1,-1,1,\n",
    "  1,1,-1],\n",
    "[\n",
    "-1, 1, 1,\n",
    " 1,-1,-1,\n",
    " 1,-1,-1,\n",
    " 1,-1,-1,\n",
    "-1, 1, 1]\n",
    "])\n",
    "S = np.reshape(S, [3, 1, 15])\n",
    "\n",
    "\n",
    "def activation_func (y_in, teta):\n",
    "    y_in[y_in > teta] = 1\n",
    "    y_in[y_in < teta] = -1\n",
    "    return y_in\n",
    "\n",
    "\n",
    "T = np.array([[-1, 1, 1], [1,-1,1],[ 1, 1, -1]])\n",
    "T = np.reshape(T, [3, 1, 3])\n",
    "\n",
    "W = np.matmul(S[0].T, T[0]) + np.matmul(S[1].T, T[1]) + np.matmul(S[2].T, T[2])\n",
    "\n"
   ]
  },
  {
   "cell_type": "code",
   "execution_count": 9,
   "metadata": {},
   "outputs": [
    {
     "name": "stdout",
     "output_type": "stream",
     "text": [
      "All patterns recognized successfully\n"
     ]
    },
    {
     "data": {
      "image/png": "[encoded data removed]",
      "text/plain": [
       "<Figure size 432x288 with 4 Axes>"
      ]
     },
     "metadata": {
      "needs_background": "light"
     },
     "output_type": "display_data"
    },
    {
     "name": "stdout",
     "output_type": "stream",
     "text": [
      "All patterns recognized successfully\n"
     ]
    },
    {
     "data": {
      "image/png": "[encoded data removed]",
      "text/plain": [
       "<Figure size 432x288 with 4 Axes>"
      ]
     },
     "metadata": {
      "needs_background": "light"
     },
     "output_type": "display_data"
    },
    {
     "name": "stdout",
     "output_type": "stream",
     "text": [
      "All patterns recognized successfully\n"
     ]
    },
    {
     "data": {
      "image/png": "[encoded data removed]",
      "text/plain": [
       "<Figure size 432x288 with 4 Axes>"
      ]
     },
     "metadata": {
      "needs_background": "light"
     },
     "output_type": "display_data"
    }
   ],
   "source": [
    "#10% noise for A\n",
    "inp = np.zeros((100, 1, 15))\n",
    "all_recognized = True\n",
    "for i in range(100):\n",
    "    inp[i] = np.copy(S[0])\n",
    "    inp[i, :, random.sample(range(15), 1)] = 0\n",
    "\n",
    "    X = np.copy(inp[i])\n",
    "    Y = np.zeros((1,3))\n",
    "\n",
    "    iter_loop = 0\n",
    "    while True:\n",
    "        iter_loop += 1\n",
    "        X_old = np.copy(X)\n",
    "        Y_old = np.copy(Y)\n",
    "\n",
    "        Y_in = np.matmul(X, W)\n",
    "        Y = activation_func(Y_in, 0)\n",
    "\n",
    "        X_in = np.matmul(Y, W.T)\n",
    "        X = activation_func(X_in, 0)\n",
    "\n",
    "        if np.array_equal(Y, Y_old) and np.array_equal(X, X_old):\n",
    "            if not np.array_equal(Y, T[0]):\n",
    "                print('Pattern not recognized for iter = ', i)\n",
    "                all_recognized = False\n",
    "            break\n",
    "\n",
    "if all_recognized:\n",
    "    print('All patterns recognized successfully')\n",
    "\n",
    "plt.figure(1)\n",
    "for i in range(4):\n",
    "    plt.subplot(220+i+1)\n",
    "    plt.imshow(np.reshape(inp[i], [5, 3]))\n",
    "plt.show()\n",
    "\n",
    "\n",
    "#20% noise for A\n",
    "inp = np.zeros((100, 1, 15))\n",
    "all_recognized = True\n",
    "for i in range(100):\n",
    "    inp[i] = np.copy(S[0])\n",
    "    inp[i, :, random.sample(range(15), 3)] = 0\n",
    "\n",
    "    X = np.copy(inp[i])\n",
    "    Y = np.zeros((1,3))\n",
    "\n",
    "    iter_loop = 0\n",
    "    while True:\n",
    "        iter_loop += 1\n",
    "        X_old = np.copy(X)\n",
    "        Y_old = np.copy(Y)\n",
    "\n",
    "        Y_in = np.matmul(X, W)\n",
    "        Y = activation_func(Y_in, 0)\n",
    "\n",
    "        X_in = np.matmul(Y, W.T)\n",
    "        X = activation_func(X_in, 0)\n",
    "\n",
    "        if np.array_equal(Y, Y_old) and np.array_equal(X, X_old):\n",
    "            if not np.array_equal(Y, T[0]):\n",
    "                print('Pattern not recognized for iter = ', i)\n",
    "                all_recognized = False\n",
    "            break\n",
    "\n",
    "if all_recognized:\n",
    "    print('All patterns recognized successfully')\n",
    "\n",
    "plt.figure(1)\n",
    "for i in range(4):\n",
    "    plt.subplot(220+i+1)\n",
    "    plt.imshow(np.reshape(inp[i], [5, 3]))\n",
    "plt.show()\n",
    "\n",
    "\n",
    "#30% noise for A\n",
    "inp = np.zeros((100, 1, 15))\n",
    "all_recognized = True\n",
    "for i in range(100):\n",
    "    inp[i] = np.copy(S[2])\n",
    "    inp[i, :, random.sample(range(15), 5)] = 0\n",
    "\n",
    "    X = np.copy(inp[i])\n",
    "    Y = np.zeros((1,3))\n",
    "\n",
    "    iter_loop = 0\n",
    "    while True:\n",
    "        iter_loop += 1\n",
    "        X_old = np.copy(X)\n",
    "        Y_old = np.copy(Y)\n",
    "\n",
    "        Y_in = np.matmul(X, W)\n",
    "        Y = activation_func(Y_in, 0)\n",
    "\n",
    "        X_in = np.matmul(Y, W.T)\n",
    "        X = activation_func(X_in, 0)\n",
    "\n",
    "        if np.array_equal(Y, Y_old) and np.array_equal(X, X_old):\n",
    "            if not np.array_equal(Y, T[2]):\n",
    "                print('Pattern not recognized for iter = ', i)\n",
    "                all_recognized = False\n",
    "            break\n",
    "\n",
    "if all_recognized:\n",
    "    print('All patterns recognized successfully')\n",
    "\n",
    "plt.figure(1)\n",
    "for i in range(4):\n",
    "    plt.subplot(220+i+1)\n",
    "    plt.imshow(np.reshape(inp[i], [5, 3]))\n",
    "plt.show()"
   ]
  },
  {
   "cell_type": "code",
   "execution_count": 10,
   "metadata": {},
   "outputs": [
    {
     "name": "stdout",
     "output_type": "stream",
     "text": [
      "All patterns recognized successfully\n"
     ]
    },
    {
     "data": {
      "image/png": "[encoded data removed]",
      "text/plain": [
       "<Figure size 432x288 with 4 Axes>"
      ]
     },
     "metadata": {
      "needs_background": "light"
     },
     "output_type": "display_data"
    },
    {
     "name": "stdout",
     "output_type": "stream",
     "text": [
      "All patterns recognized successfully\n"
     ]
    },
    {
     "data": {
      "image/png": "[encoded data removed]",
      "text/plain": [
       "<Figure size 432x288 with 4 Axes>"
      ]
     },
     "metadata": {
      "needs_background": "light"
     },
     "output_type": "display_data"
    },
    {
     "name": "stdout",
     "output_type": "stream",
     "text": [
      "Pattern not recognized for iter =  63\n",
      "Pattern not recognized for iter =  72\n",
      "Pattern not recognized for iter =  90\n"
     ]
    },
    {
     "data": {
      "image/png": "[encoded data removed]",
      "text/plain": [
       "<Figure size 432x288 with 4 Axes>"
      ]
     },
     "metadata": {
      "needs_background": "light"
     },
     "output_type": "display_data"
    }
   ],
   "source": [
    "#10% noise for B\n",
    "inp = np.zeros((100, 1, 15))\n",
    "all_recognized = True\n",
    "for i in range(100):\n",
    "    inp[i] = np.copy(S[1])\n",
    "    inp[i, :, random.sample(range(15), 1)] = 0\n",
    "\n",
    "    X = np.copy(inp[i])\n",
    "    Y = np.zeros((1,3))\n",
    "\n",
    "    iter_loop = 0\n",
    "    while True:\n",
    "        iter_loop += 1\n",
    "        X_old = np.copy(X)\n",
    "        Y_old = np.copy(Y)\n",
    "\n",
    "        Y_in = np.matmul(X, W)\n",
    "        Y = activation_func(Y_in, 0)\n",
    "\n",
    "        X_in = np.matmul(Y, W.T)\n",
    "        X = activation_func(X_in, 0)\n",
    "\n",
    "        if np.array_equal(Y, Y_old) and np.array_equal(X, X_old):\n",
    "            if not np.array_equal(Y, T[1]):\n",
    "                print('Pattern not recognized for iter = ', i)\n",
    "                all_recognized = False\n",
    "            break\n",
    "\n",
    "if all_recognized:\n",
    "    print('All patterns recognized successfully')\n",
    "\n",
    "plt.figure(1)\n",
    "for i in range(4):\n",
    "    plt.subplot(220+i+1)\n",
    "    plt.imshow(np.reshape(inp[i], [5, 3]))\n",
    "plt.show()\n",
    "\n",
    "\n",
    "#20% noise for B\n",
    "inp = np.zeros((100, 1, 15))\n",
    "all_recognized = True\n",
    "for i in range(100):\n",
    "    inp[i] = np.copy(S[1])\n",
    "    inp[i, :, random.sample(range(15), 3)] = 0\n",
    "\n",
    "    X = np.copy(inp[i])\n",
    "    Y = np.zeros((1,3))\n",
    "\n",
    "    iter_loop = 0\n",
    "    while True:\n",
    "        iter_loop += 1\n",
    "        X_old = np.copy(X)\n",
    "        Y_old = np.copy(Y)\n",
    "\n",
    "        Y_in = np.matmul(X, W)\n",
    "        Y = activation_func(Y_in, 0)\n",
    "\n",
    "        X_in = np.matmul(Y, W.T)\n",
    "        X = activation_func(X_in, 0)\n",
    "\n",
    "        if np.array_equal(Y, Y_old) and np.array_equal(X, X_old):\n",
    "            if not np.array_equal(Y, T[1]):\n",
    "                print('Pattern not recognized for iter = ', i)\n",
    "                all_recognized = False\n",
    "            break\n",
    "\n",
    "if all_recognized:\n",
    "    print('All patterns recognized successfully')\n",
    "\n",
    "plt.figure(1)\n",
    "for i in range(4):\n",
    "    plt.subplot(220+i+1)\n",
    "    plt.imshow(np.reshape(inp[i], [5, 3]))\n",
    "plt.show()\n",
    "\n",
    "\n",
    "#30% noise for B\n",
    "inp = np.zeros((100, 1, 15))\n",
    "all_recognized = True\n",
    "for i in range(100):\n",
    "    inp[i] = np.copy(S[1])\n",
    "    inp[i, :, random.sample(range(15), 5)] = 0\n",
    "\n",
    "    X = np.copy(inp[i])\n",
    "    Y = np.zeros((1,3))\n",
    "\n",
    "    iter_loop = 0\n",
    "    while True:\n",
    "        iter_loop += 1\n",
    "        X_old = np.copy(X)\n",
    "        Y_old = np.copy(Y)\n",
    "\n",
    "        Y_in = np.matmul(X, W)\n",
    "        Y = activation_func(Y_in, 0)\n",
    "\n",
    "        X_in = np.matmul(Y, W.T)\n",
    "        X = activation_func(X_in, 0)\n",
    "\n",
    "        if np.array_equal(Y, Y_old) and np.array_equal(X, X_old):\n",
    "            if not np.array_equal(Y, T[1]):\n",
    "                print('Pattern not recognized for iter = ', i)\n",
    "                all_recognized = False\n",
    "            break\n",
    "\n",
    "if all_recognized:\n",
    "    print('All patterns recognized successfully')\n",
    "\n",
    "plt.figure(1)\n",
    "for i in range(4):\n",
    "    plt.subplot(220+i+1)\n",
    "    plt.imshow(np.reshape(inp[i], [5, 3]))\n",
    "plt.show()"
   ]
  },
  {
   "cell_type": "code",
   "execution_count": 11,
   "metadata": {},
   "outputs": [
    {
     "name": "stdout",
     "output_type": "stream",
     "text": [
      "All patterns recognized successfully\n"
     ]
    },
    {
     "data": {
      "image/png": "[encoded data removed]",
      "text/plain": [
       "<Figure size 432x288 with 4 Axes>"
      ]
     },
     "metadata": {
      "needs_background": "light"
     },
     "output_type": "display_data"
    },
    {
     "name": "stdout",
     "output_type": "stream",
     "text": [
      "All patterns recognized successfully\n"
     ]
    },
    {
     "data": {
      "image/png": "[encoded data removed]",
      "text/plain": [
       "<Figure size 432x288 with 4 Axes>"
      ]
     },
     "metadata": {
      "needs_background": "light"
     },
     "output_type": "display_data"
    },
    {
     "name": "stdout",
     "output_type": "stream",
     "text": [
      "All patterns recognized successfully\n"
     ]
    },
    {
     "data": {
      "image/png": "[encoded data removed]",
      "text/plain": [
       "<Figure size 432x288 with 4 Axes>"
      ]
     },
     "metadata": {
      "needs_background": "light"
     },
     "output_type": "display_data"
    }
   ],
   "source": [
    "#10% noise for C\n",
    "inp = np.zeros((100, 1, 15))\n",
    "all_recognized = True\n",
    "for i in range(100):\n",
    "    inp[i] = np.copy(S[2])\n",
    "    inp[i, :, random.sample(range(15), 1)] = 0\n",
    "\n",
    "    X = np.copy(inp[i])\n",
    "    Y = np.zeros((1,3))\n",
    "\n",
    "    iter_loop = 0\n",
    "    while True:\n",
    "        iter_loop += 1\n",
    "        X_old = np.copy(X)\n",
    "        Y_old = np.copy(Y)\n",
    "\n",
    "        Y_in = np.matmul(X, W)\n",
    "        Y = activation_func(Y_in, 0)\n",
    "\n",
    "        X_in = np.matmul(Y, W.T)\n",
    "        X = activation_func(X_in, 0)\n",
    "\n",
    "        if np.array_equal(Y, Y_old) and np.array_equal(X, X_old):\n",
    "            if not np.array_equal(Y, T[2]):\n",
    "                print('Pattern not recognized for iter = ', i)\n",
    "                all_recognized = False\n",
    "            break\n",
    "\n",
    "if all_recognized:\n",
    "    print('All patterns recognized successfully')\n",
    "\n",
    "plt.figure(1)\n",
    "for i in range(4):\n",
    "    plt.subplot(220+i+1)\n",
    "    plt.imshow(np.reshape(inp[i], [5, 3]))\n",
    "plt.show()\n",
    "\n",
    "\n",
    "#20% noise for C\n",
    "inp = np.zeros((100, 1, 15))\n",
    "all_recognized = True\n",
    "for i in range(100):\n",
    "    inp[i] = np.copy(S[2])\n",
    "    inp[i, :, random.sample(range(15), 3)] = 0\n",
    "\n",
    "    X = np.copy(inp[i])\n",
    "    Y = np.zeros((1,3))\n",
    "\n",
    "    iter_loop = 0\n",
    "    while True:\n",
    "        iter_loop += 1\n",
    "        X_old = np.copy(X)\n",
    "        Y_old = np.copy(Y)\n",
    "\n",
    "        Y_in = np.matmul(X, W)\n",
    "        Y = activation_func(Y_in, 0)\n",
    "\n",
    "        X_in = np.matmul(Y, W.T)\n",
    "        X = activation_func(X_in, 0)\n",
    "\n",
    "        if np.array_equal(Y, Y_old) and np.array_equal(X, X_old):\n",
    "            if not np.array_equal(Y, T[2]):\n",
    "                print('Pattern not recognized for iter = ', i)\n",
    "                all_recognized = False\n",
    "            break\n",
    "\n",
    "if all_recognized:\n",
    "    print('All patterns recognized successfully')\n",
    "\n",
    "plt.figure(1)\n",
    "for i in range(4):\n",
    "    plt.subplot(220+i+1)\n",
    "    plt.imshow(np.reshape(inp[i], [5, 3]))\n",
    "plt.show()\n",
    "\n",
    "\n",
    "#30% noise for C\n",
    "inp = np.zeros((100, 1, 15))\n",
    "all_recognized = True\n",
    "for i in range(100):\n",
    "    inp[i] = np.copy(S[2])\n",
    "    inp[i, :, random.sample(range(15), 5)] = 0\n",
    "\n",
    "    X = np.copy(inp[i])\n",
    "    Y = np.zeros((1,3))\n",
    "\n",
    "    iter_loop = 0\n",
    "    while True:\n",
    "        iter_loop += 1\n",
    "        X_old = np.copy(X)\n",
    "        Y_old = np.copy(Y)\n",
    "\n",
    "        Y_in = np.matmul(X, W)\n",
    "        Y = activation_func(Y_in, 0)\n",
    "\n",
    "        X_in = np.matmul(Y, W.T)\n",
    "        X = activation_func(X_in, 0)\n",
    "\n",
    "        if np.array_equal(Y, Y_old) and np.array_equal(X, X_old):\n",
    "            if not np.array_equal(Y, T[2]):\n",
    "                print('Pattern not recognized for iter = ', i)\n",
    "                all_recognized = False\n",
    "            break\n",
    "\n",
    "if all_recognized:\n",
    "    print('All patterns recognized successfully')\n",
    "\n",
    "plt.figure(1)\n",
    "for i in range(4):\n",
    "    plt.subplot(220+i+1)\n",
    "    plt.imshow(np.reshape(inp[i], [5, 3]))\n",
    "plt.show()"
   ]
  },
  {
   "cell_type": "code",
   "execution_count": 5,
   "metadata": {},
   "outputs": [],
   "source": [
    "import numpy as np\n",
    "from numpy import array\n",
    "\n",
    "SA = np.array([-1,1,-1,1,-1,1,1,1,1,1,-1,1,1,-1,1])\n",
    "SB = np.array([1,1,-1,1,-1,1,1,1,-1,1,-1,1,1,1,-1])\n",
    "SC = np.array([-1,1,1,1,-1,-1,1,-1,-1,1,-1,-1,-1,1,1])\n",
    "\n",
    "TA = np.array([1,1,-1])\n",
    "TB = np.array([1,-1,1])\n",
    "TC = np.array([-1,1,1])\n",
    "\n",
    "\n",
    "W = np.zeros((15,3))\n",
    "for i in range(15):\n",
    "    for j in range(3):\n",
    "        W[i,j] = (SA[i]*TA[j]) + (SB[i]*TB[j]) + (SC[i]*TC[j])\n",
    "            \n",
    "#store w in a .txt file to show\n",
    "\n",
    "np.savetxt('Weights.txt',W,fmt = '%d')\n"
   ]
  },
  {
   "cell_type": "code",
   "execution_count": 16,
   "metadata": {},
   "outputs": [
    {
     "data": {
      "image/png": "[encoded data removed]",
      "text/plain": [
       "<Figure size 432x288 with 1 Axes>"
      ]
     },
     "metadata": {
      "needs_background": "light"
     },
     "output_type": "display_data"
    }
   ],
   "source": [
    "#answer of [-1,1,0] input\n",
    "Y = np.array([-1,1,0])\n",
    "\n",
    "Y_in = np.matmul(X, W)\n",
    "Y = activation_func(Y_in, 0)\n",
    "\n",
    "X_in = np.matmul(Y, W.T)\n",
    "X = activation_func(X_in, 0)\n",
    "\n",
    "plt.imshow(np.reshape(X, [5, 3]))\n",
    "plt.show()"
   ]
  },
  {
   "cell_type": "code",
   "execution_count": 12,
   "metadata": {},
   "outputs": [
    {
     "name": "stdout",
     "output_type": "stream",
     "text": [
      "[[0. 2. 2.]\n",
      " [2. 0. 2.]\n",
      " [2. 2. 0.]]\n"
     ]
    }
   ],
   "source": [
    "hamming = np.zeros((3, 3))\n",
    "for i in range(3):\n",
    "    for j in range(3):\n",
    "        hamming[i, j] = np.sum(np.not_equal(T[i], T[j]))\n",
    "\n",
    "print(hamming)"
   ]
  }
 ],
 "metadata": {
  "kernelspec": {
   "display_name": "Python 3",
   "language": "python",
   "name": "python3"
  },
  "language_info": {
   "codemirror_mode": {
    "name": "ipython",
    "version": 3
   },
   "file_extension": ".py",
   "mimetype": "text/x-python",
   "name": "python",
   "nbconvert_exporter": "python",
   "pygments_lexer": "ipython3",
   "version": "3.7.0"
  }
 },
 "nbformat": 4,
 "nbformat_minor": 2
}
